{
 "cells": [
  {
   "cell_type": "markdown",
   "id": "f1d3d9ef",
   "metadata": {},
   "source": [
    "# Converted Notebook from HTML: Boston_house_price_prediction_project.html"
   ]
  },
  {
   "cell_type": "code",
   "execution_count": null,
   "id": "3d185ed0",
   "metadata": {},
   "outputs": [],
   "source": [
    "# Import Libraries for data manupulation\n",
    "import pandas as pd\n",
    "import numpy as np\n",
    "\n",
    "# Import libraries for data visualization\n",
    "import matplotlib.pyplot as plt\n",
    "import seaborn as sns\n",
    "\n",
    "# Import libraries for data preprocessing\n",
    "from sklearn.preprocessing import StandardScaler\n",
    "from sklearn.preprocessing import MinMaxScaler\n",
    "\n",
    "# Import libraries for data preparation\n",
    "from sklearn.model_selection import train_test_split\n",
    "\n",
    "#Import libraries for Model Bulding\n",
    "from sklearn.linear_model import LinearRegression\n",
    "import statsmodels.api as sm\n",
    "from statsmodels.formula.api import ols\n",
    "from sklearn.metrics import mean_squared_error, r2_score\n",
    "\n",
    "import warnings\n",
    "warnings.filterwarnings('ignore')"
   ]
  },
  {
   "cell_type": "code",
   "execution_count": null,
   "id": "9e4a1855",
   "metadata": {},
   "outputs": [],
   "source": [
    "df = pd.read_csv('Boston.csv')"
   ]
  },
  {
   "cell_type": "code",
   "execution_count": null,
   "id": "2fbab903",
   "metadata": {},
   "outputs": [],
   "source": [
    "df.head()"
   ]
  },
  {
   "cell_type": "code",
   "execution_count": null,
   "id": "238fcf76",
   "metadata": {},
   "outputs": [],
   "source": [
    "df.shape"
   ]
  },
  {
   "cell_type": "code",
   "execution_count": null,
   "id": "e2a76579",
   "metadata": {},
   "outputs": [],
   "source": [
    "(506, 13)"
   ]
  },
  {
   "cell_type": "code",
   "execution_count": null,
   "id": "e603a1fb",
   "metadata": {},
   "outputs": [],
   "source": [
    "df.info()"
   ]
  },
  {
   "cell_type": "code",
   "execution_count": null,
   "id": "544b85a5",
   "metadata": {},
   "outputs": [],
   "source": [
    "<class 'pandas.core.frame.DataFrame'>\n",
    "RangeIndex: 506 entries, 0 to 505\n",
    "Data columns (total 13 columns):\n",
    " #   Column   Non-Null Count  Dtype  \n",
    "---  ------   --------------  -----  \n",
    " 0   CRIM     506 non-null    float64\n",
    " 1   ZN       506 non-null    float64\n",
    " 2   INDUS    506 non-null    float64\n",
    " 3   CHAS     506 non-null    int64  \n",
    " 4   NOX      506 non-null    float64\n",
    " 5   RM       506 non-null    float64\n",
    " 6   AGE      506 non-null    float64\n",
    " 7   DIS      506 non-null    float64\n",
    " 8   RAD      506 non-null    int64  \n",
    " 9   TAX      506 non-null    int64  \n",
    " 10  PTRATIO  506 non-null    float64\n",
    " 11  LSTAT    506 non-null    float64\n",
    " 12  MEDV     506 non-null    float64\n",
    "dtypes: float64(10), int64(3)\n",
    "memory usage: 51.5 KB"
   ]
  },
  {
   "cell_type": "code",
   "execution_count": null,
   "id": "1c05ae3c",
   "metadata": {},
   "outputs": [],
   "source": [
    "df.isnull().sum()"
   ]
  },
  {
   "cell_type": "code",
   "execution_count": null,
   "id": "46897e1c",
   "metadata": {},
   "outputs": [],
   "source": [
    "CRIM       0\n",
    "ZN         0\n",
    "INDUS      0\n",
    "CHAS       0\n",
    "NOX        0\n",
    "RM         0\n",
    "AGE        0\n",
    "DIS        0\n",
    "RAD        0\n",
    "TAX        0\n",
    "PTRATIO    0\n",
    "LSTAT      0\n",
    "MEDV       0\n",
    "dtype: int64"
   ]
  },
  {
   "cell_type": "code",
   "execution_count": null,
   "id": "19c25ee4",
   "metadata": {},
   "outputs": [],
   "source": [
    "df.duplicated().sum()"
   ]
  },
  {
   "cell_type": "code",
   "execution_count": null,
   "id": "5f32776e",
   "metadata": {},
   "outputs": [],
   "source": [
    "0"
   ]
  },
  {
   "cell_type": "code",
   "execution_count": null,
   "id": "da573711",
   "metadata": {},
   "outputs": [],
   "source": [
    "df.describe().T"
   ]
  },
  {
   "cell_type": "code",
   "execution_count": null,
   "id": "fae54f63",
   "metadata": {},
   "outputs": [],
   "source": [
    "# Visualizing Distribution of all the columns using histogram and kde plot\n",
    "for column in df.columns:\n",
    "  plt.figure(figsize=(10,5))\n",
    "  plt.subplot(1,2,1)\n",
    "  sns.histplot(data=df, x=column, kde=True)\n",
    "  print('Skew: ',round(df[column].skew(),2))\n",
    "  plt.subplot(1,2,2)\n",
    "  sns.boxplot(data=df, x=column)\n",
    "  plt.show()"
   ]
  },
  {
   "cell_type": "code",
   "execution_count": null,
   "id": "85adb2dc",
   "metadata": {},
   "outputs": [],
   "source": [
    "Skew:  5.22"
   ]
  },
  {
   "cell_type": "code",
   "execution_count": null,
   "id": "b1af57ad",
   "metadata": {},
   "outputs": [],
   "source": [
    "Skew:  2.23"
   ]
  },
  {
   "cell_type": "code",
   "execution_count": null,
   "id": "142b2c1b",
   "metadata": {},
   "outputs": [],
   "source": [
    "Skew:  0.3"
   ]
  },
  {
   "cell_type": "code",
   "execution_count": null,
   "id": "41c18e2d",
   "metadata": {},
   "outputs": [],
   "source": [
    "Skew:  3.41"
   ]
  },
  {
   "cell_type": "code",
   "execution_count": null,
   "id": "feac84c9",
   "metadata": {},
   "outputs": [],
   "source": [
    "Skew:  0.73"
   ]
  },
  {
   "cell_type": "code",
   "execution_count": null,
   "id": "180aae6b",
   "metadata": {},
   "outputs": [],
   "source": [
    "Skew:  0.4"
   ]
  },
  {
   "cell_type": "code",
   "execution_count": null,
   "id": "89b1b10e",
   "metadata": {},
   "outputs": [],
   "source": [
    "Skew:  -0.6"
   ]
  },
  {
   "cell_type": "code",
   "execution_count": null,
   "id": "802ae8ab",
   "metadata": {},
   "outputs": [],
   "source": [
    "Skew:  1.01"
   ]
  },
  {
   "cell_type": "code",
   "execution_count": null,
   "id": "7ed62725",
   "metadata": {},
   "outputs": [],
   "source": [
    "Skew:  1.0"
   ]
  },
  {
   "cell_type": "code",
   "execution_count": null,
   "id": "e8ad3dfc",
   "metadata": {},
   "outputs": [],
   "source": [
    "Skew:  0.67"
   ]
  },
  {
   "cell_type": "code",
   "execution_count": null,
   "id": "420cd5fa",
   "metadata": {},
   "outputs": [],
   "source": [
    "Skew:  -0.8"
   ]
  },
  {
   "cell_type": "code",
   "execution_count": null,
   "id": "c3be902b",
   "metadata": {},
   "outputs": [],
   "source": [
    "Skew:  0.91"
   ]
  },
  {
   "cell_type": "code",
   "execution_count": null,
   "id": "53870985",
   "metadata": {},
   "outputs": [],
   "source": [
    "Skew:  1.11"
   ]
  },
  {
   "cell_type": "code",
   "execution_count": null,
   "id": "7af4a066",
   "metadata": {},
   "outputs": [],
   "source": [
    "for column in df.columns:\n",
    "    print(f'{column} Skew: {round(df[column].skew(), 2)}')"
   ]
  },
  {
   "cell_type": "code",
   "execution_count": null,
   "id": "427e683f",
   "metadata": {},
   "outputs": [],
   "source": [
    "CRIM Skew: 5.22\n",
    "ZN Skew: 2.23\n",
    "INDUS Skew: 0.3\n",
    "CHAS Skew: 3.41\n",
    "NOX Skew: 0.73\n",
    "RM Skew: 0.4\n",
    "AGE Skew: -0.6\n",
    "DIS Skew: 1.01\n",
    "RAD Skew: 1.0\n",
    "TAX Skew: 0.67\n",
    "PTRATIO Skew: -0.8\n",
    "LSTAT Skew: 0.91\n",
    "MEDV Skew: 1.11"
   ]
  },
  {
   "cell_type": "code",
   "execution_count": null,
   "id": "1d96d5e4",
   "metadata": {},
   "outputs": [],
   "source": [
    "# Heat map for correlation analysis\n",
    "\n",
    "plt.figure(figsize = (10, 5))\n",
    "\n",
    "sns.heatmap(df.corr(), annot = True, fmt = '0.2f')\n",
    "\n",
    "plt.show()"
   ]
  },
  {
   "cell_type": "code",
   "execution_count": null,
   "id": "81777ccc",
   "metadata": {},
   "outputs": [],
   "source": [
    "plt.figure(figsize = (5,3))\n",
    "plt.title('NOX vs INDUS')\n",
    "print(df[['NOX','INDUS']].corr())\n",
    "sns.scatterplot(data=df, x='NOX', y='INDUS')\n",
    "plt.show()"
   ]
  },
  {
   "cell_type": "code",
   "execution_count": null,
   "id": "2c28960a",
   "metadata": {},
   "outputs": [],
   "source": [
    "NOX     INDUS\n",
    "NOX    1.000000  0.763651\n",
    "INDUS  0.763651  1.000000"
   ]
  },
  {
   "cell_type": "code",
   "execution_count": null,
   "id": "564e22e1",
   "metadata": {},
   "outputs": [],
   "source": [
    "plt.figure(figsize = (5,3))\n",
    "print(df[['TAX','RAD']].corr())\n",
    "plt.title('TAX vs RAD')\n",
    "sns.scatterplot(data=df, x='TAX', y='RAD')\n",
    "plt.show()"
   ]
  },
  {
   "cell_type": "code",
   "execution_count": null,
   "id": "0f81105f",
   "metadata": {},
   "outputs": [],
   "source": [
    "TAX       RAD\n",
    "TAX  1.000000  0.910228\n",
    "RAD  0.910228  1.000000"
   ]
  },
  {
   "cell_type": "code",
   "execution_count": null,
   "id": "95bb234a",
   "metadata": {},
   "outputs": [],
   "source": [
    "plt.figure(figsize = (5,3))\n",
    "print(df[['TAX','INDUS']].corr())\n",
    "plt.title('TAX vs INDUS')\n",
    "sns.scatterplot(data=df, x='TAX', y='INDUS')\n",
    "plt.show()"
   ]
  },
  {
   "cell_type": "code",
   "execution_count": null,
   "id": "44dc4435",
   "metadata": {},
   "outputs": [],
   "source": [
    "TAX    INDUS\n",
    "TAX    1.00000  0.72076\n",
    "INDUS  0.72076  1.00000"
   ]
  },
  {
   "cell_type": "code",
   "execution_count": null,
   "id": "e9c73a1e",
   "metadata": {},
   "outputs": [],
   "source": [
    "plt.figure(figsize = (5,3))\n",
    "print(df[['AGE','NOX']].corr())\n",
    "plt.title('AGE vs NOX')\n",
    "sns.scatterplot(data=df, x='AGE', y='NOX')\n",
    "plt.show()"
   ]
  },
  {
   "cell_type": "code",
   "execution_count": null,
   "id": "3e92bd1e",
   "metadata": {},
   "outputs": [],
   "source": [
    "AGE      NOX\n",
    "AGE  1.00000  0.73147\n",
    "NOX  0.73147  1.00000"
   ]
  },
  {
   "cell_type": "code",
   "execution_count": null,
   "id": "7bf6b8b9",
   "metadata": {},
   "outputs": [],
   "source": [
    "plt.figure(figsize = (5,3))\n",
    "print(df[['AGE','DIS']].corr())\n",
    "plt.title('AGE vs DIS')\n",
    "sns.scatterplot(data=df, x='AGE', y='DIS')\n",
    "plt.show()"
   ]
  },
  {
   "cell_type": "code",
   "execution_count": null,
   "id": "97772cc0",
   "metadata": {},
   "outputs": [],
   "source": [
    "AGE       DIS\n",
    "AGE  1.000000 -0.747881\n",
    "DIS -0.747881  1.000000"
   ]
  },
  {
   "cell_type": "code",
   "execution_count": null,
   "id": "cca35604",
   "metadata": {},
   "outputs": [],
   "source": [
    "plt.figure(figsize = (5,3))\n",
    "print(df[['RM','MEDV']].corr())\n",
    "plt.title('RM vs MEDV')\n",
    "sns.scatterplot(data=df, x='RM', y='MEDV')\n",
    "plt.show()"
   ]
  },
  {
   "cell_type": "code",
   "execution_count": null,
   "id": "f767e186",
   "metadata": {},
   "outputs": [],
   "source": [
    "RM     MEDV\n",
    "RM    1.00000  0.69536\n",
    "MEDV  0.69536  1.00000"
   ]
  },
  {
   "cell_type": "code",
   "execution_count": null,
   "id": "21b5b7d7",
   "metadata": {},
   "outputs": [],
   "source": [
    "plt.figure(figsize = (5,3))\n",
    "print(df[['DIS','INDUS']].corr())\n",
    "plt.title('DIS vs INDUS')\n",
    "sns.scatterplot(data=df, x='DIS', y='INDUS')\n",
    "plt.show()"
   ]
  },
  {
   "cell_type": "code",
   "execution_count": null,
   "id": "b3dc14bc",
   "metadata": {},
   "outputs": [],
   "source": [
    "DIS     INDUS\n",
    "DIS    1.000000 -0.708027\n",
    "INDUS -0.708027  1.000000"
   ]
  },
  {
   "cell_type": "code",
   "execution_count": null,
   "id": "8b88ff17",
   "metadata": {},
   "outputs": [],
   "source": [
    "plt.figure(figsize = (5,3))\n",
    "print(df[['DIS','NOX']].corr())\n",
    "plt.title('DIS vs NOX')\n",
    "sns.scatterplot(data=df, x='DIS', y='NOX')\n",
    "plt.show()"
   ]
  },
  {
   "cell_type": "code",
   "execution_count": null,
   "id": "00a2f78e",
   "metadata": {},
   "outputs": [],
   "source": [
    "DIS      NOX\n",
    "DIS  1.00000 -0.76923\n",
    "NOX -0.76923  1.00000"
   ]
  },
  {
   "cell_type": "code",
   "execution_count": null,
   "id": "23aaca22",
   "metadata": {},
   "outputs": [],
   "source": [
    "plt.figure(figsize = (5,3))\n",
    "print(df[['LSTAT','MEDV']].corr())\n",
    "plt.title('LSTAT vs MEDV')\n",
    "sns.scatterplot(data=df, x='LSTAT', y='MEDV')\n",
    "plt.show()"
   ]
  },
  {
   "cell_type": "code",
   "execution_count": null,
   "id": "883ffa47",
   "metadata": {},
   "outputs": [],
   "source": [
    "LSTAT      MEDV\n",
    "LSTAT  1.000000 -0.737663\n",
    "MEDV  -0.737663  1.000000"
   ]
  },
  {
   "cell_type": "code",
   "execution_count": null,
   "id": "85debd40",
   "metadata": {},
   "outputs": [],
   "source": [
    "# See the distribution and skewness of dependent variable MEDV\n",
    "print('Skew: ', round(df['MEDV'].skew(),2))\n",
    "sns.histplot(data=df, x='MEDV', kde=True)\n",
    "plt.show()"
   ]
  },
  {
   "cell_type": "code",
   "execution_count": null,
   "id": "17753b48",
   "metadata": {},
   "outputs": [],
   "source": [
    "Skew:  1.11"
   ]
  },
  {
   "cell_type": "code",
   "execution_count": null,
   "id": "b6fec493",
   "metadata": {},
   "outputs": [],
   "source": [
    "# Log transformation of dependent variable MEDV\n",
    "df['MEDV_log'] = np.log(df['MEDV'])"
   ]
  },
  {
   "cell_type": "code",
   "execution_count": null,
   "id": "7313b864",
   "metadata": {},
   "outputs": [],
   "source": [
    "# See the distribution and skewness of dependent variable MEDV\n",
    "print('Skew: ', round(df['MEDV_log'].skew(),2))\n",
    "sns.histplot(data=df, x='MEDV_log', kde=True)\n",
    "plt.show()"
   ]
  },
  {
   "cell_type": "code",
   "execution_count": null,
   "id": "5e534f30",
   "metadata": {},
   "outputs": [],
   "source": [
    "Skew:  -0.33"
   ]
  },
  {
   "cell_type": "code",
   "execution_count": null,
   "id": "cad49b02",
   "metadata": {},
   "outputs": [],
   "source": [
    "# Split the data into Independent and Dependent variables\n",
    "\n",
    "X = df.drop(columns={'MEDV','MEDV_log'})\n",
    "Y = df['MEDV_log']"
   ]
  },
  {
   "cell_type": "code",
   "execution_count": null,
   "id": "2d36669b",
   "metadata": {},
   "outputs": [],
   "source": [
    "# Adding a constant term to X\n",
    "X_with_constant = sm.add_constant(X)"
   ]
  },
  {
   "cell_type": "code",
   "execution_count": null,
   "id": "ffcd0e24",
   "metadata": {},
   "outputs": [],
   "source": [
    "# Spliting dataset into 70:30 ratio of train test set\n",
    "x_train,x_test,y_train,y_test = train_test_split(X_with_constant, Y, test_size=0.3, random_state=1)"
   ]
  },
  {
   "cell_type": "code",
   "execution_count": null,
   "id": "6f9fa35c",
   "metadata": {},
   "outputs": [],
   "source": [
    "from statsmodels.stats.outliers_influence import variance_inflation_factor\n",
    "\n",
    "# Function to check VIF\n",
    "def checking_vif(train):\n",
    "    vif_data = pd.DataFrame()\n",
    "    vif_data[\"variables\"] = train.columns\n",
    "\n",
    "    # Calculating VIF for each feature\n",
    "    vif_data[\"VIF\"] = [\n",
    "        variance_inflation_factor(train.values, i) for i in range(len(train.columns))\n",
    "    ]\n",
    "    return vif_data"
   ]
  },
  {
   "cell_type": "code",
   "execution_count": null,
   "id": "d23637d2",
   "metadata": {},
   "outputs": [],
   "source": [
    "# Using checking_vif function we created earlier to check vif on x_train data after normalizing x by adding constand\n",
    "checking_vif(x_train).sort_values(by='VIF',ascending=False)"
   ]
  },
  {
   "cell_type": "code",
   "execution_count": null,
   "id": "317d4123",
   "metadata": {},
   "outputs": [],
   "source": [
    "# Create the model after dropping TAX\n",
    "x_train = x_train.drop(columns =['TAX'])\n",
    "x_test = x_test.drop(columns=['TAX'])\n",
    "\n",
    "# Check for VIF\n",
    "checking_vif(x_train).sort_values(by='VIF',ascending=False)"
   ]
  },
  {
   "cell_type": "code",
   "execution_count": null,
   "id": "48500307",
   "metadata": {},
   "outputs": [],
   "source": [
    "# Create the model using OLS from stats library\n",
    "\n",
    "model1 = sm.OLS(y_train, x_train).fit()\n",
    "y_train_pred = model1.predict(x_train)\n",
    "y_test_pred = model1.predict(x_test)"
   ]
  },
  {
   "cell_type": "code",
   "execution_count": null,
   "id": "8fa4e488",
   "metadata": {},
   "outputs": [],
   "source": [
    "# Get the model summary\n",
    "print(model1.summary())"
   ]
  },
  {
   "cell_type": "code",
   "execution_count": null,
   "id": "06e35719",
   "metadata": {},
   "outputs": [],
   "source": [
    "OLS Regression Results                            \n",
    "==============================================================================\n",
    "Dep. Variable:               MEDV_log   R-squared:                       0.769\n",
    "Model:                            OLS   Adj. R-squared:                  0.761\n",
    "Method:                 Least Squares   F-statistic:                     103.3\n",
    "Date:                Thu, 23 Nov 2023   Prob (F-statistic):          1.40e-101\n",
    "Time:                        01:08:56   Log-Likelihood:                 76.596\n",
    "No. Observations:                 354   AIC:                            -129.2\n",
    "Df Residuals:                     342   BIC:                            -82.76\n",
    "Df Model:                          11                                         \n",
    "Covariance Type:            nonrobust                                         \n",
    "==============================================================================\n",
    "                 coef    std err          t      P>|t|      [0.025      0.975]\n",
    "------------------------------------------------------------------------------\n",
    "const          4.6324      0.243     19.057      0.000       4.154       5.111\n",
    "CRIM          -0.0128      0.002     -7.445      0.000      -0.016      -0.009\n",
    "ZN             0.0010      0.001      1.425      0.155      -0.000       0.002\n",
    "INDUS         -0.0004      0.003     -0.148      0.883      -0.006       0.005\n",
    "CHAS           0.1196      0.039      3.082      0.002       0.043       0.196\n",
    "NOX           -1.0598      0.187     -5.675      0.000      -1.427      -0.692\n",
    "RM             0.0532      0.021      2.560      0.011       0.012       0.094\n",
    "AGE            0.0003      0.001      0.461      0.645      -0.001       0.002\n",
    "DIS           -0.0503      0.010     -4.894      0.000      -0.071      -0.030\n",
    "RAD            0.0076      0.002      3.699      0.000       0.004       0.012\n",
    "PTRATIO       -0.0452      0.007     -6.659      0.000      -0.059      -0.032\n",
    "LSTAT         -0.0298      0.002    -12.134      0.000      -0.035      -0.025\n",
    "==============================================================================\n",
    "Omnibus:                       30.699   Durbin-Watson:                   1.923\n",
    "Prob(Omnibus):                  0.000   Jarque-Bera (JB):               83.718\n",
    "Skew:                           0.372   Prob(JB):                     6.62e-19\n",
    "Kurtosis:                       5.263   Cond. No.                     2.09e+03\n",
    "==============================================================================\n",
    "\n",
    "Notes:\n",
    "[1] Standard Errors assume that the covariance matrix of the errors is correctly specified.\n",
    "[2] The condition number is large, 2.09e+03. This might indicate that there are\n",
    "strong multicollinearity or other numerical problems."
   ]
  },
  {
   "cell_type": "code",
   "execution_count": null,
   "id": "5697f7c7",
   "metadata": {},
   "outputs": [],
   "source": [
    "# Dropping columns with high p-values\n",
    "x_train_new = x_train.drop(columns=['ZN','INDUS','AGE'])\n",
    "x_test_new = x_test.drop(columns=['ZN','INDUS','AGE'])"
   ]
  },
  {
   "cell_type": "code",
   "execution_count": null,
   "id": "b76053a7",
   "metadata": {},
   "outputs": [],
   "source": [
    "# Checking VIF of new training set after dropping columns\n",
    "checking_vif(x_train_new)"
   ]
  },
  {
   "cell_type": "code",
   "execution_count": null,
   "id": "ca73568b",
   "metadata": {},
   "outputs": [],
   "source": [
    "# Create second model after removing few columns\n",
    "\n",
    "model2 = sm.OLS(y_train, x_train_new).fit()\n",
    "y_train_pred = model2.predict(x_train_new)\n",
    "y_test_pred = model2.predict(x_test_new)\n",
    "\n",
    "# Get the model summary\n",
    "print(model2.summary())"
   ]
  },
  {
   "cell_type": "code",
   "execution_count": null,
   "id": "70ca5ae7",
   "metadata": {},
   "outputs": [],
   "source": [
    "OLS Regression Results                            \n",
    "==============================================================================\n",
    "Dep. Variable:               MEDV_log   R-squared:                       0.767\n",
    "Model:                            OLS   Adj. R-squared:                  0.762\n",
    "Method:                 Least Squares   F-statistic:                     142.1\n",
    "Date:                Thu, 23 Nov 2023   Prob (F-statistic):          2.61e-104\n",
    "Time:                        01:08:56   Log-Likelihood:                 75.486\n",
    "No. Observations:                 354   AIC:                            -133.0\n",
    "Df Residuals:                     345   BIC:                            -98.15\n",
    "Df Model:                           8                                         \n",
    "Covariance Type:            nonrobust                                         \n",
    "==============================================================================\n",
    "                 coef    std err          t      P>|t|      [0.025      0.975]\n",
    "------------------------------------------------------------------------------\n",
    "const          4.6494      0.242     19.242      0.000       4.174       5.125\n",
    "CRIM          -0.0125      0.002     -7.349      0.000      -0.016      -0.009\n",
    "CHAS           0.1198      0.039      3.093      0.002       0.044       0.196\n",
    "NOX           -1.0562      0.168     -6.296      0.000      -1.386      -0.726\n",
    "RM             0.0589      0.020      2.928      0.004       0.019       0.098\n",
    "DIS           -0.0441      0.008     -5.561      0.000      -0.060      -0.028\n",
    "RAD            0.0078      0.002      3.890      0.000       0.004       0.012\n",
    "PTRATIO       -0.0485      0.006     -7.832      0.000      -0.061      -0.036\n",
    "LSTAT         -0.0293      0.002    -12.949      0.000      -0.034      -0.025\n",
    "==============================================================================\n",
    "Omnibus:                       32.514   Durbin-Watson:                   1.925\n",
    "Prob(Omnibus):                  0.000   Jarque-Bera (JB):               87.354\n",
    "Skew:                           0.408   Prob(JB):                     1.07e-19\n",
    "Kurtosis:                       5.293   Cond. No.                         690.\n",
    "==============================================================================\n",
    "\n",
    "Notes:\n",
    "[1] Standard Errors assume that the covariance matrix of the errors is correctly specified."
   ]
  },
  {
   "cell_type": "code",
   "execution_count": null,
   "id": "39cb0f58",
   "metadata": {},
   "outputs": [],
   "source": [
    "residual = model2.resid"
   ]
  },
  {
   "cell_type": "code",
   "execution_count": null,
   "id": "e5fb89f8",
   "metadata": {},
   "outputs": [],
   "source": [
    "residual.mean()"
   ]
  },
  {
   "cell_type": "code",
   "execution_count": null,
   "id": "878f20b4",
   "metadata": {},
   "outputs": [],
   "source": [
    "-2.5303049047106675e-15"
   ]
  },
  {
   "cell_type": "code",
   "execution_count": null,
   "id": "0cc50628",
   "metadata": {},
   "outputs": [],
   "source": [
    "# Plot histogram of residuals\n",
    "plt.figure(figsize=(12,5))\n",
    "plt.subplot(1,2,1)\n",
    "sns.histplot(residual, kde = True)\n",
    "plt.title('Histogram of Residuals')\n",
    "plt.xlabel('Residuals')\n",
    "plt.ylabel('Frequency')\n",
    "print('Skew: ',round(residual.skew(),2))\n",
    "\n",
    "# Plot q-q plot of residuals\n",
    "import pylab\n",
    "import scipy.stats as stats\n",
    "plt.subplot(1,2,2)\n",
    "stats.probplot(residual, dist = \"norm\", plot = pylab)\n",
    "plt.title('Q-Q Plot of Residuals')\n",
    "plt.xlabel('Theoretical Quantiles')\n",
    "plt.ylabel('Sample Quantiles')\n",
    "\n",
    "plt.tight_layout()\n",
    "plt.show()"
   ]
  },
  {
   "cell_type": "code",
   "execution_count": null,
   "id": "194c4ac4",
   "metadata": {},
   "outputs": [],
   "source": [
    "Skew:  0.41"
   ]
  },
  {
   "cell_type": "code",
   "execution_count": null,
   "id": "c55b4c73",
   "metadata": {},
   "outputs": [],
   "source": [
    "#  Residual Plot\n",
    "\n",
    "fitted = model2.fittedvalues\n",
    "\n",
    "sns.residplot(x = fitted, y = residual, color = \"lightblue\")\n",
    "\n",
    "plt.xlabel(\"Fitted Values\")\n",
    "\n",
    "plt.ylabel(\"Residual\")\n",
    "\n",
    "plt.title(\"Residual PLOT\")\n",
    "\n",
    "plt.show()"
   ]
  },
  {
   "cell_type": "code",
   "execution_count": null,
   "id": "84913f90",
   "metadata": {},
   "outputs": [],
   "source": [
    "# Importing the required library\n",
    "\n",
    "from statsmodels.stats.diagnostic import het_white\n",
    "\n",
    "from statsmodels.compat import lzip\n",
    "\n",
    "import statsmodels.stats.api as sms"
   ]
  },
  {
   "cell_type": "code",
   "execution_count": null,
   "id": "d103c2ad",
   "metadata": {},
   "outputs": [],
   "source": [
    "name = [\"F statistic\", \"p-value\"]\n",
    "\n",
    "test = sms.het_goldfeldquandt(y_train, x_train_new)\n",
    "\n",
    "lzip(name, test)"
   ]
  },
  {
   "cell_type": "code",
   "execution_count": null,
   "id": "6ad6b409",
   "metadata": {},
   "outputs": [],
   "source": [
    "[('F statistic', 1.0835082923425292), ('p-value', 0.30190120067668275)]"
   ]
  },
  {
   "cell_type": "code",
   "execution_count": null,
   "id": "0c02d421",
   "metadata": {},
   "outputs": [],
   "source": [
    "from sklearn.metrics import mean_absolute_error\n",
    "\n",
    "mse_train = mean_squared_error(y_train, y_train_pred)\n",
    "mse_test = mean_squared_error(y_test, y_test_pred)\n",
    "\n",
    "r2_train = r2_score(y_train, y_train_pred)\n",
    "r2_test = r2_score(y_test, y_test_pred)\n",
    "\n",
    "rmse_train = np.sqrt(mse_train)\n",
    "rmse_test = np.sqrt(mse_test)\n",
    "\n",
    "mae_train = mean_absolute_error(y_train, y_train_pred)\n",
    "mae_test = mean_absolute_error(y_test, y_test_pred)\n",
    "\n",
    "mape_train = np.mean(np.abs((y_train - y_train_pred) / y_train)) * 100\n",
    "mape_test = np.mean(np.abs((y_test - y_test_pred) / y_test)) * 100\n",
    "\n",
    "metrics_df = print(\n",
    "                    pd.DataFrame(\n",
    "                        {\n",
    "                            'Data':['Train','Test'],\n",
    "                            'R2':[r2_train,r2_test],\n",
    "                            'MSE':[mse_train, mse_test],\n",
    "                            'RMSE':[rmse_train, rmse_test],\n",
    "                            'MAE':[mae_train, mae_test],\n",
    "                            'MAPE':[mape_train, mape_test]\n",
    "                            }\n",
    "                        )\n",
    "                    )"
   ]
  },
  {
   "cell_type": "code",
   "execution_count": null,
   "id": "12e8185f",
   "metadata": {},
   "outputs": [],
   "source": [
    "Data        R2       MSE      RMSE       MAE      MAPE\n",
    "0  Train  0.767174  0.038222  0.195504  0.143686  4.981813\n",
    "1   Test  0.772486  0.039222  0.198045  0.151284  5.257965"
   ]
  },
  {
   "cell_type": "code",
   "execution_count": null,
   "id": "f3d1c437",
   "metadata": {},
   "outputs": [],
   "source": [
    "# Import the required function\n",
    "\n",
    "from sklearn.model_selection import cross_val_score\n",
    "\n",
    "# Build the regression model and cross-validate\n",
    "lr = LinearRegression()\n",
    "\n",
    "cv_Score11 = cross_val_score(lr, x_train, y_train, cv = 10)\n",
    "cv_Score12 = cross_val_score(lr, x_train, y_train, cv = 10,\n",
    "                             scoring = 'neg_mean_squared_error')\n",
    "\n",
    "\n",
    "print(\"RSquared: %0.3f (+/- %0.3f)\" % (cv_Score11.mean(), cv_Score11.std() * 2))\n",
    "print(\"Mean Squared Error: %0.3f (+/- %0.3f)\" % (-1*cv_Score12.mean(), cv_Score12.std() * 2))"
   ]
  },
  {
   "cell_type": "code",
   "execution_count": null,
   "id": "cf69943e",
   "metadata": {},
   "outputs": [],
   "source": [
    "RSquared: 0.727 (+/- 0.240)\n",
    "Mean Squared Error: 0.041 (+/- 0.024)"
   ]
  },
  {
   "cell_type": "code",
   "execution_count": null,
   "id": "510ab897",
   "metadata": {},
   "outputs": [],
   "source": [
    "# Creat feature and its coefs dataframe.\n",
    "\n",
    "coef = model2.params\n",
    "pd.DataFrame({'Feature' : coef.index, 'Coefs' : coef.values})"
   ]
  }
 ],
 "metadata": {},
 "nbformat": 4,
 "nbformat_minor": 5
}
